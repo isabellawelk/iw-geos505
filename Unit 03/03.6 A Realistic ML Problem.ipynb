{
 "cells": [
  {
   "cell_type": "code",
   "execution_count": 1,
   "id": "48c2e8a6",
   "metadata": {},
   "outputs": [],
   "source": [
    "import pandas as pd\n",
    "import numpy as np\n",
    "import matplotlib.pyplot as plt\n",
    "import xgboost as xgb\n",
    "from sklearn.model_selection import train_test_split\n",
    "from sklearn.metrics import mean_squared_error\n",
    "from sklearn.preprocessing import StandardScaler\n",
    "\n",
    "snowflow_data_fn = 'boise_river_snow2flow.csv'"
   ]
  },
  {
   "cell_type": "code",
   "execution_count": 2,
   "id": "078f3013",
   "metadata": {},
   "outputs": [
    {
     "data": {
      "application/vnd.microsoft.datawrangler.viewer.v0+json": {
       "columns": [
        {
         "name": "datetime",
         "rawType": "datetime64[ns]",
         "type": "datetime"
        },
        {
         "name": "prec_mm",
         "rawType": "float64",
         "type": "float"
        },
        {
         "name": "tavg_degc",
         "rawType": "float64",
         "type": "float"
        },
        {
         "name": "swe_mm",
         "rawType": "float64",
         "type": "float"
        },
        {
         "name": "flow_cms",
         "rawType": "float64",
         "type": "float"
        }
       ],
       "ref": "e19dbc6d-8c66-4f66-b04d-87ff401641c0",
       "rows": [
        [
         "2000-10-01 00:00:00",
         "5.08",
         "5.0",
         "0.0",
         "8.69358904201582"
        ],
        [
         "2000-10-02 00:00:00",
         "0.0",
         "2.6",
         "0.0",
         "9.061721477019749"
        ],
        [
         "2000-10-03 00:00:00",
         "0.0",
         "0.8999999999999986",
         "0.0",
         "8.806860560478565"
        ],
        [
         "2000-10-04 00:00:00",
         "0.0",
         "1.7000000000000013",
         "0.0",
         "8.778542680862879"
        ],
        [
         "2000-10-05 00:00:00",
         "0.0",
         "-0.4999999999999992",
         "0.0",
         "8.750224801247192"
        ],
        [
         "2000-10-06 00:00:00",
         "0.0",
         "1.400000000000002",
         "0.0",
         "8.778542680862879"
        ],
        [
         "2000-10-07 00:00:00",
         "0.0",
         "3.900000000000002",
         "0.0",
         "8.778542680862879"
        ],
        [
         "2000-10-08 00:00:00",
         "0.0",
         "4.9",
         "0.0",
         "8.721906921631506"
        ],
        [
         "2000-10-09 00:00:00",
         "0.0",
         "9.6",
         "0.0",
         "8.665271162400133"
        ],
        [
         "2000-10-10 00:00:00",
         "20.32",
         "1.6000000000000014",
         "0.0",
         "8.835178440094253"
        ],
        [
         "2000-10-11 00:00:00",
         "10.16",
         "-0.8000000000000007",
         "7.619999999999999",
         "10.449297578188396"
        ],
        [
         "2000-10-12 00:00:00",
         "12.7",
         "-1.0000000000000004",
         "17.779999999999998",
         "12.431549151286465"
        ],
        [
         "2000-10-13 00:00:00",
         "0.0",
         "-1.1000000000000003",
         "30.479999999999997",
         "12.601456428980583"
        ],
        [
         "2000-10-14 00:00:00",
         "0.0",
         "0.2999999999999995",
         "30.479999999999997",
         "11.242198207427622"
        ],
        [
         "2000-10-15 00:00:00",
         "0.0",
         "-1.2000000000000002",
         "30.479999999999997",
         "11.10060880934919"
        ],
        [
         "2000-10-16 00:00:00",
         "0.0",
         "0.9999999999999984",
         "27.94",
         "10.534251217035456"
        ],
        [
         "2000-10-17 00:00:00",
         "0.0",
         "2.5",
         "27.94",
         "10.2227545412629"
        ],
        [
         "2000-10-18 00:00:00",
         "0.0",
         "3.5999999999999983",
         "27.94",
         "10.05284726356878"
        ],
        [
         "2000-10-19 00:00:00",
         "2.54",
         "2.5",
         "27.94",
         "9.939575745106032"
        ],
        [
         "2000-10-20 00:00:00",
         "17.779999999999998",
         "3.4999999999999987",
         "27.94",
         "9.854622106258974"
        ],
        [
         "2000-10-21 00:00:00",
         "10.16",
         "-4.199999999999999",
         "33.019999999999996",
         "12.969588863984512"
        ],
        [
         "2000-10-22 00:00:00",
         "0.0",
         "-6.4",
         "38.099999999999994",
         "12.686410067827644"
        ],
        [
         "2000-10-23 00:00:00",
         "0.0",
         "-1.4",
         "38.099999999999994",
         "11.043973050117817"
        ],
        [
         "2000-10-24 00:00:00",
         "0.0",
         "0.2999999999999995",
         "38.099999999999994",
         "10.590886976266829"
        ],
        [
         "2000-10-25 00:00:00",
         "0.0",
         "1.0999999999999983",
         "38.099999999999994",
         "10.336026059725649"
        ],
        [
         "2000-10-26 00:00:00",
         "12.7",
         "1.5000000000000016",
         "38.099999999999994",
         "10.336026059725649"
        ],
        [
         "2000-10-27 00:00:00",
         "0.0",
         "-0.2999999999999995",
         "50.8",
         "11.610330642431547"
        ],
        [
         "2000-10-28 00:00:00",
         "20.32",
         "-0.1999999999999997",
         "50.8",
         "11.185562448196247"
        ],
        [
         "2000-10-29 00:00:00",
         "25.4",
         "-2.6999999999999997",
         "71.11999999999999",
         "15.404926510933567"
        ],
        [
         "2000-10-30 00:00:00",
         "0.0",
         "-2.6999999999999997",
         "93.98",
         "15.376608631317882"
        ],
        [
         "2000-10-31 00:00:00",
         "0.0",
         "-3.5000000000000004",
         "93.98",
         "13.734171613608051"
        ],
        [
         "2000-11-01 00:00:00",
         "0.0",
         "-7.6",
         "93.98",
         "13.139496141678633"
        ],
        [
         "2000-11-02 00:00:00",
         "0.0",
         "-9.3",
         "93.98",
         "12.459867030902153"
        ],
        [
         "2000-11-03 00:00:00",
         "0.0",
         "-7.300000000000001",
         "93.98",
         "11.808555799741358"
        ],
        [
         "2000-11-04 00:00:00",
         "10.16",
         "-5.1",
         "93.98",
         "11.808555799741358"
        ],
        [
         "2000-11-05 00:00:00",
         "0.0",
         "-7.6",
         "104.14",
         "12.261641873592344"
        ],
        [
         "2000-11-06 00:00:00",
         "0.0",
         "-12.5",
         "104.14",
         "11.412105485121742"
        ],
        [
         "2000-11-07 00:00:00",
         "0.0",
         "-11.6",
         "104.14",
         "10.364343939341335"
        ],
        [
         "2000-11-08 00:00:00",
         "10.16",
         "-7.7",
         "104.14",
         "11.327151846274685"
        ],
        [
         "2000-11-09 00:00:00",
         "2.54",
         "-10.1",
         "114.3",
         "11.836873679357044"
        ],
        [
         "2000-11-10 00:00:00",
         "0.0",
         "-11.1",
         "116.84",
         "11.44042336473743"
        ],
        [
         "2000-11-11 00:00:00",
         "0.0",
         "-13.0",
         "116.84",
         "11.015655170502129"
        ],
        [
         "2000-11-12 00:00:00",
         "0.0",
         "-14.7",
         "116.84",
         "10.137800902415842"
        ],
        [
         "2000-11-13 00:00:00",
         "0.0",
         "-12.3",
         "116.84",
         "9.911257865490349"
        ],
        [
         "2000-11-14 00:00:00",
         "7.619999999999999",
         "-9.500000000000002",
         "116.84",
         "10.902383652039385"
        ],
        [
         "2000-11-15 00:00:00",
         "0.0",
         "-11.900000000000002",
         "124.46",
         "11.610330642431547"
        ],
        [
         "2000-11-16 00:00:00",
         "0.0",
         "-14.6",
         "124.46",
         "9.826304226643288"
        ],
        [
         "2000-11-17 00:00:00",
         "0.0",
         "-13.8",
         "124.46",
         "9.231628754713867"
        ],
        [
         "2000-11-18 00:00:00",
         "0.0",
         "-9.1",
         "124.46",
         "8.721906921631506"
        ],
        [
         "2000-11-19 00:00:00",
         "0.0",
         "-7.200000000000001",
         "124.46",
         "9.061721477019749"
        ]
       ],
       "shape": {
        "columns": 4,
        "rows": 9131
       }
      },
      "text/html": [
       "<div>\n",
       "<style scoped>\n",
       "    .dataframe tbody tr th:only-of-type {\n",
       "        vertical-align: middle;\n",
       "    }\n",
       "\n",
       "    .dataframe tbody tr th {\n",
       "        vertical-align: top;\n",
       "    }\n",
       "\n",
       "    .dataframe thead th {\n",
       "        text-align: right;\n",
       "    }\n",
       "</style>\n",
       "<table border=\"1\" class=\"dataframe\">\n",
       "  <thead>\n",
       "    <tr style=\"text-align: right;\">\n",
       "      <th></th>\n",
       "      <th>prec_mm</th>\n",
       "      <th>tavg_degc</th>\n",
       "      <th>swe_mm</th>\n",
       "      <th>flow_cms</th>\n",
       "    </tr>\n",
       "    <tr>\n",
       "      <th>datetime</th>\n",
       "      <th></th>\n",
       "      <th></th>\n",
       "      <th></th>\n",
       "      <th></th>\n",
       "    </tr>\n",
       "  </thead>\n",
       "  <tbody>\n",
       "    <tr>\n",
       "      <th>2000-10-01</th>\n",
       "      <td>5.08</td>\n",
       "      <td>5.0</td>\n",
       "      <td>0.00</td>\n",
       "      <td>8.693589</td>\n",
       "    </tr>\n",
       "    <tr>\n",
       "      <th>2000-10-02</th>\n",
       "      <td>0.00</td>\n",
       "      <td>2.6</td>\n",
       "      <td>0.00</td>\n",
       "      <td>9.061721</td>\n",
       "    </tr>\n",
       "    <tr>\n",
       "      <th>2000-10-03</th>\n",
       "      <td>0.00</td>\n",
       "      <td>0.9</td>\n",
       "      <td>0.00</td>\n",
       "      <td>8.806861</td>\n",
       "    </tr>\n",
       "    <tr>\n",
       "      <th>2000-10-04</th>\n",
       "      <td>0.00</td>\n",
       "      <td>1.7</td>\n",
       "      <td>0.00</td>\n",
       "      <td>8.778543</td>\n",
       "    </tr>\n",
       "    <tr>\n",
       "      <th>2000-10-05</th>\n",
       "      <td>0.00</td>\n",
       "      <td>-0.5</td>\n",
       "      <td>0.00</td>\n",
       "      <td>8.750225</td>\n",
       "    </tr>\n",
       "    <tr>\n",
       "      <th>...</th>\n",
       "      <td>...</td>\n",
       "      <td>...</td>\n",
       "      <td>...</td>\n",
       "      <td>...</td>\n",
       "    </tr>\n",
       "    <tr>\n",
       "      <th>2025-09-26</th>\n",
       "      <td>0.00</td>\n",
       "      <td>8.9</td>\n",
       "      <td>0.00</td>\n",
       "      <td>7.674145</td>\n",
       "    </tr>\n",
       "    <tr>\n",
       "      <th>2025-09-27</th>\n",
       "      <td>0.00</td>\n",
       "      <td>8.7</td>\n",
       "      <td>0.00</td>\n",
       "      <td>7.617510</td>\n",
       "    </tr>\n",
       "    <tr>\n",
       "      <th>2025-09-28</th>\n",
       "      <td>0.00</td>\n",
       "      <td>11.5</td>\n",
       "      <td>0.00</td>\n",
       "      <td>7.617510</td>\n",
       "    </tr>\n",
       "    <tr>\n",
       "      <th>2025-09-29</th>\n",
       "      <td>25.40</td>\n",
       "      <td>10.0</td>\n",
       "      <td>0.00</td>\n",
       "      <td>7.730781</td>\n",
       "    </tr>\n",
       "    <tr>\n",
       "      <th>2025-09-30</th>\n",
       "      <td>7.62</td>\n",
       "      <td>5.0</td>\n",
       "      <td>5.08</td>\n",
       "      <td>12.629774</td>\n",
       "    </tr>\n",
       "  </tbody>\n",
       "</table>\n",
       "<p>9131 rows × 4 columns</p>\n",
       "</div>"
      ],
      "text/plain": [
       "            prec_mm  tavg_degc  swe_mm   flow_cms\n",
       "datetime                                         \n",
       "2000-10-01     5.08        5.0    0.00   8.693589\n",
       "2000-10-02     0.00        2.6    0.00   9.061721\n",
       "2000-10-03     0.00        0.9    0.00   8.806861\n",
       "2000-10-04     0.00        1.7    0.00   8.778543\n",
       "2000-10-05     0.00       -0.5    0.00   8.750225\n",
       "...             ...        ...     ...        ...\n",
       "2025-09-26     0.00        8.9    0.00   7.674145\n",
       "2025-09-27     0.00        8.7    0.00   7.617510\n",
       "2025-09-28     0.00       11.5    0.00   7.617510\n",
       "2025-09-29    25.40       10.0    0.00   7.730781\n",
       "2025-09-30     7.62        5.0    5.08  12.629774\n",
       "\n",
       "[9131 rows x 4 columns]"
      ]
     },
     "execution_count": 2,
     "metadata": {},
     "output_type": "execute_result"
    }
   ],
   "source": [
    "snowflow_data_df = pd.read_csv(snowflow_data_fn, index_col='datetime', parse_dates=True)\n",
    "snowflow_data_df"
   ]
  },
  {
   "cell_type": "code",
   "execution_count": null,
   "id": "a1d5417d",
   "metadata": {},
   "outputs": [],
   "source": [
    "# These are the monthly features we will use for modeling pulled from the daily data\n",
    "# feature engineering: using daily data to make monthly predictions \n",
    "mon_prec_sum = snowflow_data_df['prec_mm'].groupby([snowflow_data_df.index.year,snowflow_data_df.index.month]).sum().values\n",
    "mon_temp_avg = snowflow_data_df['tavg_degc'].groupby([snowflow_data_df.index.year,snowflow_data_df.index.month]).mean().values\n",
    "mon_temp_maxrat = snowflow_data_df['tavg_degc'].groupby([snowflow_data_df.index.year,snowflow_data_df.index.month]).max().values / mon_temp_avg\n",
    "mon_temp_minrat = snowflow_data_df['tavg_degc'].groupby([snowflow_data_df.index.year,snowflow_data_df.index.month]).min().values / mon_temp_avg\n",
    "mon_swe_max = snowflow_data_df['swe_mm'].groupby([snowflow_data_df.index.year,snowflow_data_df.index.month]).max().values\n",
    "mon_swe_range = (snowflow_data_df['swe_mm'].groupby([snowflow_data_df.index.year,snowflow_data_df.index.month]).max() \n",
    "                 - snowflow_data_df['swe_mm'].groupby([snowflow_data_df.index.year,snowflow_data_df.index.month]).min()).values\n",
    "mon_flow_avg = snowflow_data_df['flow_cms'].groupby([snowflow_data_df.index.year,snowflow_data_df.index.month]).mean().values\n",
    "mon_flow_avg_ln = np.log(mon_flow_avg)"
   ]
  },
  {
   "cell_type": "code",
   "execution_count": null,
   "id": "0fe7f6ae",
   "metadata": {},
   "outputs": [],
   "source": [
    "# Create cyclical month features (sin and cos transformations)\n",
    "snowflow_data_months = snowflow_data_df.groupby([snowflow_data_df.index.year,snowflow_data_df.index.month]).first().index.get_level_values(1).values\n",
    "\n",
    "mon_sin = np.sin(snowflow_data_months/12 * (2 * np.pi))\n",
    "mon_cos = np.cos(snowflow_data_months/12 * (2 * np.pi))"
   ]
  },
  {
   "cell_type": "code",
   "execution_count": null,
   "id": "57f47e56",
   "metadata": {},
   "outputs": [
    {
     "data": {
      "text/plain": [
       "(299, 9)"
      ]
     },
     "execution_count": 5,
     "metadata": {},
     "output_type": "execute_result"
    }
   ],
   "source": [
    "# Combine features into design matrix X for modeling \n",
    "X = np.column_stack((mon_sin, \n",
    "                     mon_cos, \n",
    "                     mon_prec_sum, \n",
    "                     mon_temp_avg,\n",
    "                     mon_temp_maxrat,\n",
    "                     mon_temp_minrat, \n",
    "                     mon_swe_max, \n",
    "                     mon_swe_range, \n",
    "                     mon_flow_avg_ln))\n",
    "X = X[0:-1,:] # drop last month to match target variable length\n",
    "X.shape"
   ]
  },
  {
   "cell_type": "code",
   "execution_count": null,
   "id": "2887905c",
   "metadata": {},
   "outputs": [],
   "source": [
    "# Standardize features by removing the mean and scaling to unit variance\n",
    "scaler = StandardScaler() \n",
    "\n",
    "scaler.fit(X) # creates z score of all features in columns \n",
    "\n",
    "X_transformed = scaler.transform(X) # use transformed features on data (modeling)"
   ]
  },
  {
   "cell_type": "code",
   "execution_count": null,
   "id": "e4897c12",
   "metadata": {},
   "outputs": [
    {
     "data": {
      "text/plain": [
       "(299,)"
      ]
     },
     "execution_count": 7,
     "metadata": {},
     "output_type": "execute_result"
    }
   ],
   "source": [
    "# Create target variable\n",
    "y = mon_flow_avg_ln[1:] # to predict next months discharge \n",
    "y.shape"
   ]
  },
  {
   "cell_type": "code",
   "execution_count": null,
   "id": "1572dc39",
   "metadata": {},
   "outputs": [],
   "source": [
    "# Split data into training and testing sets\n",
    "X_train, X_test, y_train, y_test = train_test_split(X_transformed, y, test_size=0.2, random_state=42)"
   ]
  },
  {
   "cell_type": "code",
   "execution_count": 9,
   "id": "ffdf2d49",
   "metadata": {},
   "outputs": [],
   "source": [
    "# 3. Create DMatrix objects for XGBoost\n",
    "# DMatrix is an optimized data structure for XGBoost\n",
    "dtrain = xgb.DMatrix(X_train, label=y_train)\n",
    "dtest = xgb.DMatrix(X_test, label=y_test)"
   ]
  },
  {
   "cell_type": "code",
   "execution_count": 10,
   "id": "e7e3e170",
   "metadata": {},
   "outputs": [],
   "source": [
    "# 4. Define XGBoost parameters\n",
    "params = {\n",
    "    'objective': 'reg:squarederror',  # Objective for regression (mean squared error)\n",
    "    'eval_metric': 'rmse',            # Evaluation metric (Root Mean Squared Error)\n",
    "    'max_depth': 7,                   # Maximum depth of a tree\n",
    "    'eta': 0.02,                       # Learning rate (step size shrinkage)\n",
    "    'subsample': 0.8,                 # Subsample ratio of the training instance\n",
    "    'colsample_bytree': 0.8,          # Subsample ratio of columns when constructing each tree\n",
    "    'seed': 42                        # Random seed for reproducibility\n",
    "}"
   ]
  },
  {
   "cell_type": "code",
   "execution_count": null,
   "id": "c56be18a",
   "metadata": {},
   "outputs": [],
   "source": [
    "# 5. Train the XGBoost model\n",
    "num_rounds = 500  # Number of boosting rounds (trees)\n",
    "model = xgb.train(params, dtrain, num_rounds) # basically just fits a model"
   ]
  },
  {
   "cell_type": "code",
   "execution_count": 12,
   "id": "07b550c8",
   "metadata": {},
   "outputs": [
    {
     "name": "stdout",
     "output_type": "stream",
     "text": [
      "Mean Squared Error: 86.4743\n",
      "Root Mean Squared Error: 9.2992\n"
     ]
    }
   ],
   "source": [
    "# 6. Make predictions on the test set\n",
    "y_pred = model.predict(dtest)\n",
    "\n",
    "# 7. Evaluate the model\n",
    "mse = mean_squared_error(np.exp(y_test), np.exp(y_pred))\n",
    "rmse = np.sqrt(mse)\n",
    "print(f\"Mean Squared Error: {mse:.4f}\")\n",
    "print(f\"Root Mean Squared Error: {rmse:.4f}\")"
   ]
  },
  {
   "cell_type": "code",
   "execution_count": 13,
   "id": "59193821",
   "metadata": {},
   "outputs": [
    {
     "data": {
      "image/png": "[encoded data removed]",
      "text/plain": [
       "<Figure size 800x800 with 1 Axes>"
      ]
     },
     "metadata": {},
     "output_type": "display_data"
    }
   ],
   "source": [
    "one2one = np.linspace(0,np.max((np.exp(y_pred).max(),np.exp(y_test).max())),100)\n",
    "\n",
    "fig = plt.figure(figsize=(8,8))\n",
    "plt.plot(np.exp(y_test),np.exp(y_pred), marker='o', markerfacecolor='None', markeredgecolor='k', linestyle='None')\n",
    "plt.plot(one2one,one2one,'k-')\n",
    "plt.xlim([0, one2one.max()])\n",
    "plt.ylim([0, one2one.max()])\n",
    "plt.grid('on',color='grey', linestyle='--')\n",
    "plt.xlabel('Observed Discharge [m\\u00b3/s]')\n",
    "plt.ylabel('Predicted Discharge [m\\u00b3/s]')\n",
    "plt.show()"
   ]
  },
  {
   "cell_type": "markdown",
   "id": "9e41d953",
   "metadata": {},
   "source": [
    "Things to do from here:\n",
    "- run on more data: might include going back in time, or using multiple snotel sites \n",
    "- more feature engineering \n",
    "    - think through them more (moth beg - mmonth end for swe)\n",
    "- can specify what variables to use to see if differnt variables arent important/ what works best\n",
    "\n",
    "- standard scalar doesnt impact this specific graph, but is useful to look at the variables for our purposes"
   ]
  }
 ],
 "metadata": {
  "kernelspec": {
   "display_name": "geos505",
   "language": "python",
   "name": "python3"
  },
  "language_info": {
   "codemirror_mode": {
    "name": "ipython",
    "version": 3
   },
   "file_extension": ".py",
   "mimetype": "text/x-python",
   "name": "python",
   "nbconvert_exporter": "python",
   "pygments_lexer": "ipython3",
   "version": "3.12.12"
  }
 },
 "nbformat": 4,
 "nbformat_minor": 5
}
