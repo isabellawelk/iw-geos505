{
 "cells": [
  {
   "cell_type": "code",
   "execution_count": 7,
   "id": "ec9e70db",
   "metadata": {},
   "outputs": [
    {
     "ename": "ModuleNotFoundError",
     "evalue": "No module named 'pint'",
     "output_type": "error",
     "traceback": [
      "\u001b[31m---------------------------------------------------------------------------\u001b[39m",
      "\u001b[31mModuleNotFoundError\u001b[39m                       Traceback (most recent call last)",
      "\u001b[36mCell\u001b[39m\u001b[36m \u001b[39m\u001b[32mIn[7]\u001b[39m\u001b[32m, line 1\u001b[39m\n\u001b[32m----> \u001b[39m\u001b[32m1\u001b[39m \u001b[38;5;28;01mfrom\u001b[39;00m\u001b[38;5;250m \u001b[39m\u001b[34;01mpint\u001b[39;00m\u001b[38;5;250m \u001b[39m\u001b[38;5;28;01mimport\u001b[39;00m UnitRegistry\n\u001b[32m      3\u001b[39m ureg = UnitRegistry()\n",
      "\u001b[31mModuleNotFoundError\u001b[39m: No module named 'pint'"
     ]
    }
   ],
   "source": [
    "from pint import UnitRegistry\n",
    "\n",
    "ureg = UnitRegistry()"
   ]
  },
  {
   "cell_type": "code",
   "execution_count": 8,
   "id": "009e2959",
   "metadata": {},
   "outputs": [
    {
     "ename": "NameError",
     "evalue": "name 'ureg' is not defined",
     "output_type": "error",
     "traceback": [
      "\u001b[31m---------------------------------------------------------------------------\u001b[39m",
      "\u001b[31mNameError\u001b[39m                                 Traceback (most recent call last)",
      "\u001b[36mCell\u001b[39m\u001b[36m \u001b[39m\u001b[32mIn[8]\u001b[39m\u001b[32m, line 1\u001b[39m\n\u001b[32m----> \u001b[39m\u001b[32m1\u001b[39m flow_cfs = \u001b[32m12000.0\u001b[39m*\u001b[43mureg\u001b[49m.ft**\u001b[32m3\u001b[39m/ureg.s\n\u001b[32m      2\u001b[39m \u001b[38;5;28mprint\u001b[39m(\u001b[33mf\u001b[39m\u001b[33m'\u001b[39m\u001b[33mOriginal flow: \u001b[39m\u001b[38;5;132;01m{\u001b[39;00mflow_cfs\u001b[38;5;132;01m:\u001b[39;00m\u001b[33m.2f~P\u001b[39m\u001b[38;5;132;01m}\u001b[39;00m\u001b[33m'\u001b[39m)\n",
      "\u001b[31mNameError\u001b[39m: name 'ureg' is not defined"
     ]
    }
   ],
   "source": [
    "flow_cfs = 12000.0*ureg.ft**3/ureg.s\n",
    "print(f'Original flow: {flow_cfs:.2f~P}')"
   ]
  },
  {
   "cell_type": "code",
   "execution_count": 10,
   "id": "73f2b0f6",
   "metadata": {},
   "outputs": [
    {
     "ename": "NameError",
     "evalue": "name 'flow_cfs' is not defined",
     "output_type": "error",
     "traceback": [
      "\u001b[31m---------------------------------------------------------------------------\u001b[39m",
      "\u001b[31mNameError\u001b[39m                                 Traceback (most recent call last)",
      "\u001b[36mCell\u001b[39m\u001b[36m \u001b[39m\u001b[32mIn[10]\u001b[39m\u001b[32m, line 1\u001b[39m\n\u001b[32m----> \u001b[39m\u001b[32m1\u001b[39m flow_cms = \u001b[43mflow_cfs\u001b[49m.to(ureg.m**\u001b[32m3\u001b[39m/ureg.s)\n\u001b[32m      2\u001b[39m \u001b[38;5;28mprint\u001b[39m(\u001b[33mf\u001b[39m\u001b[33m'\u001b[39m\u001b[33mConverted flow: \u001b[39m\u001b[38;5;132;01m{\u001b[39;00mflow_cms\u001b[38;5;132;01m:\u001b[39;00m\u001b[33m.2f~P\u001b[39m\u001b[38;5;132;01m}\u001b[39;00m\u001b[33m'\u001b[39m)\n",
      "\u001b[31mNameError\u001b[39m: name 'flow_cfs' is not defined"
     ]
    }
   ],
   "source": [
    "flow_cms = flow_cfs.to(ureg.m**3/ureg.s)\n",
    "print(f'Converted flow: {flow_cms:.2f~P}')"
   ]
  },
  {
   "cell_type": "code",
   "execution_count": 9,
   "id": "9e8828f8",
   "metadata": {},
   "outputs": [
    {
     "name": "stdout",
     "output_type": "stream",
     "text": [
      "\n",
      "Conversions:\n",
      "Original flow rate: 12000.00 ft³/s\n",
      "Converted flow rate (by hand): 339.80 m³/s\n",
      "Same as using Pint? \n",
      "\n"
     ]
    }
   ],
   "source": [
    "## By Hand Way: \n",
    "flow_cfs_os = 12000.0\n",
    "flow_cms_os = flow_cfs_os / (3.28084**3)\n",
    "\n",
    "os_uconversion_text = f'''\n",
    "Conversions:\n",
    "Original flow rate: {flow_cfs_os:.2f} ft\\u00b3/s\n",
    "Converted flow rate (by hand): {flow_cms_os:.2f} m\\u00b3/s\n",
    "Same as using Pint? \n",
    "'''\n",
    "\n",
    "print(os_uconversion_text)"
   ]
  },
  {
   "cell_type": "code",
   "execution_count": 11,
   "id": "2872c428",
   "metadata": {},
   "outputs": [
    {
     "ename": "NameError",
     "evalue": "name 'flow_cfs' is not defined",
     "output_type": "error",
     "traceback": [
      "\u001b[31m---------------------------------------------------------------------------\u001b[39m",
      "\u001b[31mNameError\u001b[39m                                 Traceback (most recent call last)",
      "\u001b[36mCell\u001b[39m\u001b[36m \u001b[39m\u001b[32mIn[11]\u001b[39m\u001b[32m, line 1\u001b[39m\n\u001b[32m----> \u001b[39m\u001b[32m1\u001b[39m flow_afd = \u001b[43mflow_cfs\u001b[49m.to(ureg.acre_feet/ureg.day)\n\u001b[32m      2\u001b[39m \u001b[38;5;28mprint\u001b[39m(\u001b[33mf\u001b[39m\u001b[33m'\u001b[39m\u001b[33mConverted flow: \u001b[39m\u001b[38;5;132;01m{\u001b[39;00mflow_afd\u001b[38;5;132;01m:\u001b[39;00m\u001b[33m.2f~P\u001b[39m\u001b[38;5;132;01m}\u001b[39;00m\u001b[33m'\u001b[39m)\n",
      "\u001b[31mNameError\u001b[39m: name 'flow_cfs' is not defined"
     ]
    }
   ],
   "source": [
    "flow_afd = flow_cfs.to(ureg.acre_feet/ureg.day)\n",
    "print(f'Converted flow: {flow_afd:.2f~P}')"
   ]
  },
  {
   "cell_type": "code",
   "execution_count": 12,
   "id": "2ac26c7e",
   "metadata": {},
   "outputs": [
    {
     "ename": "NameError",
     "evalue": "name 'ureg' is not defined",
     "output_type": "error",
     "traceback": [
      "\u001b[31m---------------------------------------------------------------------------\u001b[39m",
      "\u001b[31mNameError\u001b[39m                                 Traceback (most recent call last)",
      "\u001b[36mCell\u001b[39m\u001b[36m \u001b[39m\u001b[32mIn[12]\u001b[39m\u001b[32m, line 1\u001b[39m\n\u001b[32m----> \u001b[39m\u001b[32m1\u001b[39m smoked_paprika = \u001b[32m1.0\u001b[39m * \u001b[43mureg\u001b[49m.teaspoon\n\u001b[32m      2\u001b[39m \u001b[38;5;28mprint\u001b[39m(\u001b[33mf\u001b[39m\u001b[33m'\u001b[39m\u001b[33m3 batches of a recipe calls for: \u001b[39m\u001b[38;5;132;01m{\u001b[39;00m\u001b[32m6\u001b[39m*smoked_paprika\u001b[38;5;132;01m:\u001b[39;00m\u001b[33m.2f~P\u001b[39m\u001b[38;5;132;01m}\u001b[39;00m\u001b[33m'\u001b[39m)\n",
      "\u001b[31mNameError\u001b[39m: name 'ureg' is not defined"
     ]
    }
   ],
   "source": [
    "smoked_paprika = 1.0 * ureg.teaspoon\n",
    "print(f'3 batches of a recipe calls for: {6*smoked_paprika:.2f~P}')"
   ]
  },
  {
   "cell_type": "code",
   "execution_count": null,
   "id": "0a589d90",
   "metadata": {},
   "outputs": [],
   "source": [
    "print(f'Instead use: {6*smoked_paprika.to(ureg.tablespoon):.2f~P}')"
   ]
  },
  {
   "cell_type": "code",
   "execution_count": null,
   "id": "da3eaf54",
   "metadata": {},
   "outputs": [],
   "source": [
    "chern_rad = 3.6 * ureg.roentgen / ureg.hour\n",
    "print(f'Ok, {chern_rad:~P}, that\\'s not great, but it\\'s not terrible')"
   ]
  },
  {
   "cell_type": "code",
   "execution_count": null,
   "id": "83ce624a",
   "metadata": {},
   "outputs": [],
   "source": []
  }
 ],
 "metadata": {
  "kernelspec": {
   "display_name": "geos505",
   "language": "python",
   "name": "python3"
  },
  "language_info": {
   "codemirror_mode": {
    "name": "ipython",
    "version": 3
   },
   "file_extension": ".py",
   "mimetype": "text/x-python",
   "name": "python",
   "nbconvert_exporter": "python",
   "pygments_lexer": "ipython3",
   "version": "3.12.11"
  }
 },
 "nbformat": 4,
 "nbformat_minor": 5
}
