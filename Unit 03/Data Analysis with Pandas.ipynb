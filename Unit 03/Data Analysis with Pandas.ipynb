{
 "cells": [
  {
   "cell_type": "markdown",
   "id": "52264046",
   "metadata": {},
   "source": []
  },
  {
   "cell_type": "markdown",
   "id": "d2713165",
   "metadata": {},
   "source": []
  },
  {
   "cell_type": "code",
   "execution_count": null,
   "id": "6cfd5a27",
   "metadata": {},
   "outputs": [],
   "source": [
    "import pandas as pd\n",
    "import numpy as np\n",
    "import matplotlib.pyplot as plt\n",
    "\n"
   ]
  },
  {
   "cell_type": "markdown",
   "id": "7c58a352",
   "metadata": {},
   "source": [
    "A few helpful resources: \n",
    "\n",
    "- A Medium article on some [one-liners that can help with data cleaning](https://medium.com/@ThinkingLoop/12-pandas-one-liners-that-replaced-my-entire-data-cleaning-pipeline-953a6ab7af6f) (subscription potentially required)"
   ]
  },
  {
   "cell_type": "markdown",
   "id": "f4d410e9",
   "metadata": {},
   "source": []
  }
 ],
 "metadata": {
  "kernelspec": {
   "display_name": "env",
   "language": "python",
   "name": "python3"
  },
  "language_info": {
   "name": "python",
   "version": "3.12.10"
  }
 },
 "nbformat": 4,
 "nbformat_minor": 5
}
